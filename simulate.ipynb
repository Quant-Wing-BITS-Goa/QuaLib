{
 "cells": [
  {
   "cell_type": "code",
   "execution_count": 2,
   "metadata": {},
   "outputs": [
    {
     "ename": "IndentationError",
     "evalue": "expected an indented block (<ipython-input-2-da8b47022603>, line 17)",
     "output_type": "error",
     "traceback": [
      "\u001b[1;36m  File \u001b[1;32m\"<ipython-input-2-da8b47022603>\"\u001b[1;36m, line \u001b[1;32m17\u001b[0m\n\u001b[1;33m    def currency(S0,T,n):\u001b[0m\n\u001b[1;37m      ^\u001b[0m\n\u001b[1;31mIndentationError\u001b[0m\u001b[1;31m:\u001b[0m expected an indented block\n"
     ]
    }
   ],
   "source": [
    "\"\"\"\"\n",
    "This module will help you\n",
    "to simulate the movement of stock pricing\n",
    "using different discretization techniques\n",
    "\n",
    "Generally all the functions have 3 arguments:\n",
    "S0: Initial Stock Price\n",
    "T: how many days the simulation has to predict\n",
    "n: no. of different MC simultions\n",
    "\n",
    "The different functions sould return a nXT matrix\n",
    "\n",
    "\"\"\"\n",
    "\n",
    "def asset(S0,T,n):\n",
    "    \n",
    "def currency(S0,T,n):\n",
    "    \n",
    "def coxwell(S0,T,n):\n",
    "    \n",
    "def expBM(S0,T,n):"
   ]
  },
  {
   "cell_type": "code",
   "execution_count": null,
   "metadata": {},
   "outputs": [],
   "source": []
  }
 ],
 "metadata": {
  "kernelspec": {
   "display_name": "Python 3",
   "language": "python",
   "name": "python3"
  },
  "language_info": {
   "codemirror_mode": {
    "name": "ipython",
    "version": 3
   },
   "file_extension": ".py",
   "mimetype": "text/x-python",
   "name": "python",
   "nbconvert_exporter": "python",
   "pygments_lexer": "ipython3",
   "version": "3.7.6"
  }
 },
 "nbformat": 4,
 "nbformat_minor": 4
}
