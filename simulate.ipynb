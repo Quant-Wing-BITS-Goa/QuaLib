{
 "cells": [
  {
   "cell_type": "code",
   "execution_count": null,
   "metadata": {},
   "outputs": [],
   "source": [
    "from scipy.stats import norm\n",
    "import numpy as np\n",
    "import pandas as pd \n",
    "import matplotlib.pyplot as plt\n",
    "\n",
    "\n",
    "\"\"\"\"\n",
    "This module will help you\n",
    "to simulate the movement of stock pricing\n",
    "using different discretization techniques\n",
    "\n",
    "Generally all the functions have 3 arguments:\n",
    "S0: Initial Stock Price\n",
    "T: how many days the simulation has to predict\n",
    "n: no. of different MC simultions\n",
    "\n",
    "The different functions sould return a nXT matrix\n",
    "\n",
    "\"\"\"\n",
    "\n",
    "def asset(S0,T,n):\n",
    "    return data  # pd.DataFrame with column Close\n",
    "def currency(S0,T,n):\n",
    "    return conversion # float\n",
    "def coxwell(S0,T,n):\n",
    "    \n",
    "def expBM(S0,T,n):\n",
    "    \n",
    "    # assumed asset gives out data and curency is conversion rate\n",
    "    data = asset()['Close']*currency()\n",
    "    \n",
    "    # defining required variables\n",
    "    log_returns = np.log(1 + data.pct_change())\n",
    "    u = log_returns.mean()\n",
    "    stdev = log_returns.std()\n",
    "    var = log_returns.var()\n",
    "\n",
    "    drift =  np.array(u - (0.5*var))\n",
    "    \n",
    "    # generating a random matrix based on previos data\n",
    "\n",
    "    daily_returns = np.exp(stdev*norm.ppf(np.random.rand(T,n)) + drift)\n",
    "\n",
    "    # apply it to generate different price lists\n",
    "    price_list = np.zeros_like(daily_returns)\n",
    "    price_list[0] = S0\n",
    "    for t in range(1,T):\n",
    "        price_list[t] = price_list[t-1]*daily_returns[t]\n",
    "\n",
    "    #      plt.plot(price_list)\n",
    "    return price_list #output nXT matrix\n"
   ]
  },
  {
   "cell_type": "code",
   "execution_count": 4,
   "metadata": {},
   "outputs": [],
   "source": []
  }
 ],
 "metadata": {
  "kernelspec": {
   "display_name": "Python 3",
   "language": "python",
   "name": "python3"
  },
  "language_info": {
   "codemirror_mode": {
    "name": "ipython",
    "version": 3
   },
   "file_extension": ".py",
   "mimetype": "text/x-python",
   "name": "python",
   "nbconvert_exporter": "python",
   "pygments_lexer": "ipython3",
   "version": "3.8.3"
  }
 },
 "nbformat": 4,
 "nbformat_minor": 4
}
