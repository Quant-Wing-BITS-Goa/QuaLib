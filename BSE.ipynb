{
 "cells": [
  {
   "cell_type": "code",
   "execution_count": 2,
   "metadata": {},
   "outputs": [],
   "source": [
    "import numpy as np\n",
    "import pandas as pd\n",
    "from scipy.stats import norm"
   ]
  },
  {
   "cell_type": "code",
   "execution_count": 3,
   "metadata": {},
   "outputs": [],
   "source": [
    "class BSE:\n",
    "    \"\"\"\n",
    "    BSE Class\n",
    "    \n",
    "    Args:\n",
    "    S - Spot Price\n",
    "    K - Strike Price \n",
    "    r- Risk Free Rate\n",
    "    T - Time of expiry of the option\n",
    "    \n",
    "    \"\"\"\n",
    "    \n",
    "    def __init__(self,S,K,r,T):\n",
    "        self.S = S\n",
    "        self.K=K\n",
    "        self.r=r\n",
    "        self.T=T\n",
    "        \n",
    "    def d1(self):\n",
    "        #return (np.log(S / K) + (r + stdev ** 2 / 2) * T) / (stdev * np.sqrt(T))\n",
    " \n",
    "    def d2(self):\n",
    "        #return (np.log(S / K) + (r - stdev ** 2 / 2) * T) / (stdev * np.sqrt(T))\n",
    "\n",
    "    def BSM(self):\n",
    "        #return (S * norm.cdf(d1())) - (K * np.exp(-r * T) * norm.cdf(d2()))"
   ]
  },
  {
   "cell_type": "code",
   "execution_count": null,
   "metadata": {},
   "outputs": [],
   "source": []
  }
 ],
 "metadata": {
  "kernelspec": {
   "display_name": "Python 3",
   "language": "python",
   "name": "python3"
  },
  "language_info": {
   "codemirror_mode": {
    "name": "ipython",
    "version": 3
   },
   "file_extension": ".py",
   "mimetype": "text/x-python",
   "name": "python",
   "nbconvert_exporter": "python",
   "pygments_lexer": "ipython3",
   "version": "3.7.6"
  }
 },
 "nbformat": 4,
 "nbformat_minor": 4
}
